{
 "cells": [
  {
   "cell_type": "code",
   "execution_count": 3,
   "id": "6ba1ba65",
   "metadata": {},
   "outputs": [],
   "source": [
    "import spacy"
   ]
  },
  {
   "cell_type": "code",
   "execution_count": 5,
   "id": "6c82dc9c",
   "metadata": {},
   "outputs": [],
   "source": [
    "nlp = spacy.load('en_core_web_sm')"
   ]
  },
  {
   "cell_type": "code",
   "execution_count": 7,
   "id": "f17b719f",
   "metadata": {},
   "outputs": [],
   "source": [
    "doc = nlp(u'Toyota is looking at acquiring new startup for $1 Millon')"
   ]
  },
  {
   "cell_type": "code",
   "execution_count": 8,
   "id": "dec13eb1",
   "metadata": {},
   "outputs": [
    {
     "name": "stdout",
     "output_type": "stream",
     "text": [
      "Toyota\n",
      "is\n",
      "looking\n",
      "at\n",
      "acquiring\n",
      "new\n",
      "startup\n",
      "for\n",
      "$\n",
      "1\n",
      "Millon\n"
     ]
    }
   ],
   "source": [
    "for token in doc:\n",
    "    print(token.text)"
   ]
  }
 ],
 "metadata": {
  "kernelspec": {
   "display_name": ".venv",
   "language": "python",
   "name": "python3"
  },
  "language_info": {
   "codemirror_mode": {
    "name": "ipython",
    "version": 3
   },
   "file_extension": ".py",
   "mimetype": "text/x-python",
   "name": "python",
   "nbconvert_exporter": "python",
   "pygments_lexer": "ipython3",
   "version": "3.12.0"
  }
 },
 "nbformat": 4,
 "nbformat_minor": 5
}
