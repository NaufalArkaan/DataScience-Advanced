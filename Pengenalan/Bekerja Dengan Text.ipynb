{
 "cells": [
  {
   "cell_type": "code",
   "execution_count": 7,
   "id": "b2843015",
   "metadata": {},
   "outputs": [],
   "source": [
    "Nama = \"Yanto\""
   ]
  },
  {
   "cell_type": "code",
   "execution_count": 8,
   "id": "c41eca2b",
   "metadata": {},
   "outputs": [
    {
     "name": "stdout",
     "output_type": "stream",
     "text": [
      "Nama saya adalah Yanto\n"
     ]
    }
   ],
   "source": [
    "print(f\"Nama saya adalah {Nama}\")"
   ]
  },
  {
   "cell_type": "code",
   "execution_count": 9,
   "id": "2457b14a",
   "metadata": {},
   "outputs": [],
   "source": [
    "#Dictionary\n",
    "dic = {\"a\": 123, \"b\": 456}"
   ]
  },
  {
   "cell_type": "code",
   "execution_count": 11,
   "id": "3e4d3a56",
   "metadata": {},
   "outputs": [
    {
     "data": {
      "text/plain": [
       "{'a': 123, 'b': 456}"
      ]
     },
     "execution_count": 11,
     "metadata": {},
     "output_type": "execute_result"
    }
   ],
   "source": [
    "dic"
   ]
  },
  {
   "cell_type": "code",
   "execution_count": 1,
   "id": "8a65b5e9",
   "metadata": {},
   "outputs": [
    {
     "ename": "NameError",
     "evalue": "name 'dic' is not defined",
     "output_type": "error",
     "traceback": [
      "\u001b[31m---------------------------------------------------------------------------\u001b[39m",
      "\u001b[31mNameError\u001b[39m                                 Traceback (most recent call last)",
      "\u001b[36mCell\u001b[39m\u001b[36m \u001b[39m\u001b[32mIn[1]\u001b[39m\u001b[32m, line 1\u001b[39m\n\u001b[32m----> \u001b[39m\u001b[32m1\u001b[39m \u001b[38;5;28mprint\u001b[39m(\u001b[33mf\u001b[39m\u001b[33m\"\u001b[39m\u001b[33mNomor saya adalah \u001b[39m\u001b[38;5;132;01m{\u001b[39;00m\u001b[43mdic\u001b[49m[\u001b[33m\"\u001b[39m\u001b[33mb\u001b[39m\u001b[33m\"\u001b[39m]\u001b[38;5;132;01m}\u001b[39;00m\u001b[33m\"\u001b[39m)\n",
      "\u001b[31mNameError\u001b[39m: name 'dic' is not defined"
     ]
    }
   ],
   "source": [
    "print(f\"Nomor saya adalah {dic[\"b\"]}\")"
   ]
  },
  {
   "cell_type": "code",
   "execution_count": 2,
   "id": "77b715b9",
   "metadata": {},
   "outputs": [],
   "source": [
    "#List\n",
    "angka = [1,2,3,4]"
   ]
  },
  {
   "cell_type": "code",
   "execution_count": 5,
   "id": "c49870c1",
   "metadata": {},
   "outputs": [
    {
     "name": "stdout",
     "output_type": "stream",
     "text": [
      "angka yang saya pilih adalah = 4\n"
     ]
    }
   ],
   "source": [
    "print(f\"angka yang saya pilih adalah = {angka[3]}\")"
   ]
  },
  {
   "cell_type": "code",
   "execution_count": 6,
   "id": "aca0f146",
   "metadata": {},
   "outputs": [],
   "source": [
    "#Tuples\n",
    "tupleSaya = (1,2,3)"
   ]
  },
  {
   "cell_type": "code",
   "execution_count": 8,
   "id": "33d41abd",
   "metadata": {},
   "outputs": [
    {
     "name": "stdout",
     "output_type": "stream",
     "text": [
      "angka yang saya pilih adalah = 2\n"
     ]
    }
   ],
   "source": [
    "print(f\"angka yang saya pilih adalah = {tupleSaya[1]}\")"
   ]
  },
  {
   "cell_type": "code",
   "execution_count": 10,
   "id": "55628409",
   "metadata": {},
   "outputs": [],
   "source": [
    "Kasir = [('No', 'Barang', 'Harga'),('1', 'Aqua', 'Rp. 3000'),('2', 'Oreo', 'Rp. 5000'),('3', 'Chitato', 'Rp. 3000')]"
   ]
  },
  {
   "cell_type": "code",
   "execution_count": 12,
   "id": "f84dd698",
   "metadata": {},
   "outputs": [
    {
     "data": {
      "text/plain": [
       "[('No', 'Barang', 'Harga'),\n",
       " ('1', 'Aqua', 'Rp. 3000'),\n",
       " ('2', 'Oreo', 'Rp. 5000'),\n",
       " ('3', 'Chitato', 'Rp. 3000')]"
      ]
     },
     "execution_count": 12,
     "metadata": {},
     "output_type": "execute_result"
    }
   ],
   "source": [
    "Kasir"
   ]
  },
  {
   "cell_type": "code",
   "execution_count": 14,
   "id": "ceeaa3e5",
   "metadata": {},
   "outputs": [
    {
     "name": "stdout",
     "output_type": "stream",
     "text": [
      "('No', 'Barang', 'Harga')\n",
      "('1', 'Aqua', 'Rp. 3000')\n",
      "('2', 'Oreo', 'Rp. 5000')\n",
      "('3', 'Chitato', 'Rp. 3000')\n"
     ]
    }
   ],
   "source": [
    "for pembelian in Kasir:\n",
    "    print(pembelian)"
   ]
  },
  {
   "cell_type": "code",
   "execution_count": 16,
   "id": "9ad8c541",
   "metadata": {},
   "outputs": [
    {
     "name": "stdout",
     "output_type": "stream",
     "text": [
      "Barang yang dibeli adalah Barang\n",
      "Barang yang dibeli adalah Aqua\n",
      "Barang yang dibeli adalah Oreo\n",
      "Barang yang dibeli adalah Chitato\n"
     ]
    }
   ],
   "source": [
    "for pembelian in Kasir:\n",
    "    print(f\"Barang yang dibeli adalah {pembelian[1]}\")"
   ]
  },
  {
   "cell_type": "code",
   "execution_count": 20,
   "id": "a358444b",
   "metadata": {},
   "outputs": [
    {
     "name": "stdout",
     "output_type": "stream",
     "text": [
      "No         Barang          Harga          \n",
      "1          Aqua            Rp. 3000       \n",
      "2          Oreo            Rp. 5000       \n",
      "3          Chitato         Rp. 3000       \n"
     ]
    }
   ],
   "source": [
    "for no, pembelian, harga in Kasir:\n",
    "    print(f\"{no:{10}} {pembelian:{15}} {harga:{15}}\")"
   ]
  },
  {
   "cell_type": "code",
   "execution_count": 22,
   "id": "0a3607cb",
   "metadata": {},
   "outputs": [
    {
     "name": "stdout",
     "output_type": "stream",
     "text": [
      "No         Barang                    Harga\n",
      "1          Aqua                   Rp. 3000\n",
      "2          Oreo                   Rp. 5000\n",
      "3          Chitato                Rp. 3000\n"
     ]
    }
   ],
   "source": [
    "for no, pembelian, harga in Kasir:\n",
    "    print(f\"{no:{10}} {pembelian:{15}} {harga:>{15}}\")"
   ]
  },
  {
   "cell_type": "code",
   "execution_count": 25,
   "id": "ee24e700",
   "metadata": {},
   "outputs": [
    {
     "name": "stdout",
     "output_type": "stream",
     "text": [
      "No         Barang          __________Harga\n",
      "1          Aqua            _______Rp. 3000\n",
      "2          Oreo            _______Rp. 5000\n",
      "3          Chitato         _______Rp. 3000\n"
     ]
    }
   ],
   "source": [
    "for no, pembelian, harga in Kasir:\n",
    "    print(f\"{no:{10}} {pembelian:{15}} {harga:_>{15}}\")"
   ]
  }
 ],
 "metadata": {
  "kernelspec": {
   "display_name": ".venv",
   "language": "python",
   "name": "python3"
  },
  "language_info": {
   "codemirror_mode": {
    "name": "ipython",
    "version": 3
   },
   "file_extension": ".py",
   "mimetype": "text/x-python",
   "name": "python",
   "nbconvert_exporter": "python",
   "pygments_lexer": "ipython3",
   "version": "3.12.0"
  }
 },
 "nbformat": 4,
 "nbformat_minor": 5
}
