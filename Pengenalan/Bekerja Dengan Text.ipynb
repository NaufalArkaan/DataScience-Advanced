{
 "cells": [
  {
   "cell_type": "code",
   "execution_count": 7,
   "id": "b2843015",
   "metadata": {},
   "outputs": [],
   "source": [
    "Nama = \"Yanto\""
   ]
  },
  {
   "cell_type": "code",
   "execution_count": 8,
   "id": "c41eca2b",
   "metadata": {},
   "outputs": [
    {
     "name": "stdout",
     "output_type": "stream",
     "text": [
      "Nama saya adalah Yanto\n"
     ]
    }
   ],
   "source": [
    "print(f\"Nama saya adalah {Nama}\")"
   ]
  },
  {
   "cell_type": "code",
   "execution_count": 9,
   "id": "2457b14a",
   "metadata": {},
   "outputs": [],
   "source": [
    "#Dictionary\n",
    "dic = {\"a\": 123, \"b\": 456}"
   ]
  },
  {
   "cell_type": "code",
   "execution_count": 11,
   "id": "3e4d3a56",
   "metadata": {},
   "outputs": [
    {
     "data": {
      "text/plain": [
       "{'a': 123, 'b': 456}"
      ]
     },
     "execution_count": 11,
     "metadata": {},
     "output_type": "execute_result"
    }
   ],
   "source": [
    "dic"
   ]
  },
  {
   "cell_type": "code",
   "execution_count": 12,
   "id": "8a65b5e9",
   "metadata": {},
   "outputs": [
    {
     "name": "stdout",
     "output_type": "stream",
     "text": [
      "Nomor saya adalah 456\n"
     ]
    }
   ],
   "source": [
    "print(f\"Nomor saya adalah {dic[\"b\"]}\")"
   ]
  }
 ],
 "metadata": {
  "kernelspec": {
   "display_name": ".venv",
   "language": "python",
   "name": "python3"
  },
  "language_info": {
   "codemirror_mode": {
    "name": "ipython",
    "version": 3
   },
   "file_extension": ".py",
   "mimetype": "text/x-python",
   "name": "python",
   "nbconvert_exporter": "python",
   "pygments_lexer": "ipython3",
   "version": "3.12.0"
  }
 },
 "nbformat": 4,
 "nbformat_minor": 5
}
